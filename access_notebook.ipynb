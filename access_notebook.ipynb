{
 "cells": [
  {
   "cell_type": "markdown",
   "metadata": {},
   "source": [
    "imports"
   ]
  },
  {
   "cell_type": "code",
   "execution_count": 1,
   "metadata": {},
   "outputs": [],
   "source": [
    "import os\n",
    "import pickle\n",
    "import timit_to_ipa\n",
    "import sim_phonemes\n",
    "import matplotlib.pyplot as plt\n",
    "from sklearn.manifold import MDS\n",
    "from sklearn.cluster import KMeans\n",
    "from sklearn.manifold import TSNE\n",
    "from sklearn.decomposition import PCA\n",
    "import random\n",
    "import seaborn as sns\n",
    "import numpy as np"
   ]
  },
  {
   "cell_type": "markdown",
   "metadata": {},
   "source": [
    "functions to load the saved file which contains mapping from phoneme to codebook entry"
   ]
  },
  {
   "cell_type": "code",
   "execution_count": 2,
   "metadata": {},
   "outputs": [],
   "source": [
    "def load_ph_code_entry_map(\n",
    "    path_phn_file: str#path of file\n",
    "):  # loading phoneme to codeentry mapping for the file\n",
    "    with open(path_phn_file, \"rb\") as f:\n",
    "        phn_dict = pickle.load(f)\n",
    "    return phn_dict\n",
    "\n",
    "\n",
    "def load_ph_code_entry_map_folder(\n",
    "    pickle_path#path of folder\n",
    "):  # loading phoneme to codeentry mapping for the whole folder\n",
    "    phn_dict = {}\n",
    "    for subdir, dirs, files in os.walk(pickle_path):\n",
    "        for file in files:\n",
    "            if \"_phn.pkl\" in file:\n",
    "                phn_dict_f = load_ph_code_entry_map(\n",
    "                    subdir + \"/\" + file\n",
    "                )  # loading phoneme to codeentry mapping for the file\n",
    "                for p, val in phn_dict_f.items():\n",
    "                    if p in phn_dict:\n",
    "                        phn_dict[p] += phn_dict_f[p]\n",
    "                    else:\n",
    "                        phn_dict[p] = phn_dict_f[p]\n",
    "    return phn_dict"
   ]
  },
  {
   "cell_type": "markdown",
   "metadata": {},
   "source": [
    "\n",
    "function to plot compression"
   ]
  },
  {
   "cell_type": "code",
   "execution_count": 3,
   "metadata": {},
   "outputs": [],
   "source": [
    "def plot_compress(sim_mt, phn_to_dist_1_keys,type_of_compression = \"TSNE\", kmeans = False):\n",
    "    if type_of_compression == \"mds\":\n",
    "        compress = MDS(n_components=2, dissimilarity=\"precomputed\", n_jobs=-1).fit_transform(\n",
    "            sim_mt\n",
    "        )\n",
    "    elif type_of_compression == \"TSNE\":\n",
    "        # compress = TSNE(n_components=2, learning_rate='auto',init='random', perplexity=3,random_state = 0).fit_transform(sim_mt)\n",
    "        compress = TSNE(n_components=2,verbose=1, perplexity=9, n_iter=1000, learning_rate=200,random_state = 0).fit_transform(sim_mt)\n",
    "    elif type_of_compression == \"PCA\":\n",
    "        compress = PCA(n_components=2,random_state = 0).fit_transform(sim_mt)  \n",
    "        # val1 = compress[:,0]\n",
    "        # val2 = compress[:,1]\n",
    "        # compress[:,1] = np.array(val1)*-1\n",
    "        # compress[:,0] = np.array(val2)*-1\n",
    "    if kmeans == True:\n",
    "        kmns = KMeans(n_clusters=12, random_state=0).fit(compress)\n",
    "        colors_cluster = kmns.labels_\n",
    "        sns.scatterplot(compress[:, 0], compress[:, 1],c = colors_cluster)\n",
    "    else:\n",
    "        sns.scatterplot(compress[:, 0], compress[:, 1])\n",
    "    for i, phn in enumerate(phn_to_dist_1_keys):\n",
    "        v = random.uniform(0, 0.5)\n",
    "        plt.annotate(phn, (compress[:, 0][i], compress[:, 1][i]))\n",
    "    plt.xlabel(\"{type_of_compression} axis 1\")\n",
    "    plt.ylabel(\"{type_of_compression} axis 2\")\n",
    "    plt.savefig(\"compress.pdf\", bbox_inches=\"tight\")"
   ]
  },
  {
   "cell_type": "markdown",
   "metadata": {},
   "source": [
    "providing path folder which contains the phoneme to code entry mapping"
   ]
  },
  {
   "cell_type": "code",
   "execution_count": 4,
   "metadata": {},
   "outputs": [],
   "source": [
    "codebook = 1\n",
    "folder_name = \"timit_pkl_xlsr\"\n",
    "path_folder = (\n",
    "    f\"/Users/mohammedmaqsoodshaik/Desktop/hiwi/task1/{folder_name}/codebook{codebook}/\"\n",
    ")\n",
    "phn_dict1 = load_ph_code_entry_map_folder(path_folder)\n",
    "codebook = 2\n",
    "folder_name = \"timit_pkl_xlsr\"\n",
    "path_folder = (\n",
    "    f\"/Users/mohammedmaqsoodshaik/Desktop/hiwi/task1/{folder_name}/codebook{codebook}/\"\n",
    ")\n",
    "phn_dict2 = load_ph_code_entry_map_folder(path_folder)\n",
    "for key_1,val_1 in phn_dict1.items():\n",
    "        phn_dict1[key_1] +=  list(np.asarray(phn_dict2[key_1]) + 320)\n",
    "phn_dict=phn_dict1"
   ]
  },
  {
   "cell_type": "markdown",
   "metadata": {},
   "source": [
    "calculating similarity with sorted phonemes and creating timit to ipa mappings"
   ]
  },
  {
   "cell_type": "code",
   "execution_count": 5,
   "metadata": {},
   "outputs": [
    {
     "name": "stdout",
     "output_type": "stream",
     "text": [
      "number of codebook entries utilized out of 640:155\n"
     ]
    }
   ],
   "source": [
    "abs_discount = 0.00000000002 #absolute discounting hyperparameter\n",
    "sim_mt,sorted_phonemes = sim_phonemes.similarity_calculation(phn_dict, phn_dict,abs_discount)#passing obtained dictionary with phonemes to codeentries mapping\n",
    "labels = [timit_to_ipa.timit_2_ipa[k] for k in sorted_phonemes]#timit to ipa conversion"
   ]
  },
  {
   "cell_type": "markdown",
   "metadata": {},
   "source": [
    "plotting similarity matrix, dendogram and compression"
   ]
  },
  {
   "cell_type": "code",
   "execution_count": 6,
   "metadata": {},
   "outputs": [
    {
     "name": "stderr",
     "output_type": "stream",
     "text": [
      "/Users/mohammedmaqsoodshaik/miniforge3/envs/wav2vec/lib/python3.9/site-packages/seaborn/_decorators.py:36: FutureWarning: Pass the following variables as keyword args: x, y. From version 0.12, the only valid positional argument will be `data`, and passing other arguments without an explicit keyword will result in an error or misinterpretation.\n",
      "  warnings.warn(\n"
     ]
    },
    {
     "data": {
      "image/png": "[encoded data removed]",
      "text/plain": [
       "<Figure size 640x480 with 1 Axes>"
      ]
     },
     "metadata": {},
     "output_type": "display_data"
    }
   ],
   "source": [
    "# sim_phonemes.plot_sim(sim_mt, labels, labels)\n",
    "# plt.figure()\n",
    "plot_compress(sim_mt, labels,\"PCA\",False)\n",
    "plt.show()"
   ]
  }
 ],
 "metadata": {
  "kernelspec": {
   "display_name": "Python 3.9.13 ('wav2vec')",
   "language": "python",
   "name": "python3"
  },
  "language_info": {
   "codemirror_mode": {
    "name": "ipython",
    "version": 3
   },
   "file_extension": ".py",
   "mimetype": "text/x-python",
   "name": "python",
   "nbconvert_exporter": "python",
   "pygments_lexer": "ipython3",
   "version": "3.9.13"
  },
  "orig_nbformat": 4,
  "vscode": {
   "interpreter": {
    "hash": "230b6d0cf0920933dc98630e84ca3f7140b4913b5238f130b9ba5ddaab5e894a"
   }
  }
 },
 "nbformat": 4,
 "nbformat_minor": 2
}
